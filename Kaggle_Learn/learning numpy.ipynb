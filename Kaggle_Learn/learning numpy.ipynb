{
 "cells": [
  {
   "cell_type": "code",
   "execution_count": 1,
   "id": "62e5c8a3-dabc-4de1-93cd-5cf810152f81",
   "metadata": {},
   "outputs": [
    {
     "name": "stdout",
     "output_type": "stream",
     "text": [
      "[1 2 3 4 5]\n"
     ]
    }
   ],
   "source": [
    "import numpy as np\n",
    "\n",
    "arr = np.array([1,2,3,4,5])\n",
    "print(arr)"
   ]
  },
  {
   "cell_type": "code",
   "execution_count": 2,
   "id": "693c3063-b16d-4531-9ca1-1c11f3c021d3",
   "metadata": {},
   "outputs": [
    {
     "name": "stdout",
     "output_type": "stream",
     "text": [
      "<class 'numpy.ndarray'>\n"
     ]
    }
   ],
   "source": [
    "print(type(arr))"
   ]
  },
  {
   "cell_type": "code",
   "execution_count": 3,
   "id": "c6901a13-f365-4bb2-b22d-472b87750e6f",
   "metadata": {},
   "outputs": [
    {
     "name": "stdout",
     "output_type": "stream",
     "text": [
      "[ 0  3  6  9 12 15 18]\n",
      "<class 'numpy.ndarray'>\n"
     ]
    }
   ],
   "source": [
    "arr = np.arange(0, 21, 3)\n",
    "print(arr)\n",
    "print(type(arr))"
   ]
  },
  {
   "cell_type": "code",
   "execution_count": 8,
   "id": "fd275696-ec95-47c7-8495-32d2e557061f",
   "metadata": {},
   "outputs": [
    {
     "name": "stdout",
     "output_type": "stream",
     "text": [
      "[  0.     6.25  12.5   18.75  25.    31.25  37.5   43.75  50.    56.25\n",
      "  62.5   68.75  75.    81.25  87.5   93.75 100.  ]\n",
      "17\n",
      "The step size is 6.25\n"
     ]
    }
   ],
   "source": [
    "arr, step_size = np.linspace(0, 100, 17, endpoint = True, retstep = True)\n",
    "print(arr)\n",
    "print(arr.size)\n",
    "print('The step size is ' + str(step_size))"
   ]
  },
  {
   "cell_type": "code",
   "execution_count": 16,
   "id": "b0b4c242-9ba5-4d05-91cf-cbaf48f9b250",
   "metadata": {},
   "outputs": [
    {
     "name": "stdout",
     "output_type": "stream",
     "text": [
      "[[0.8601898  0.86036438 0.82046864]\n",
      " [0.76420988 0.88827357 0.84574545]]\n"
     ]
    }
   ],
   "source": [
    "arr = np.random.rand(2,3)\n",
    "print(arr)\n"
   ]
  },
  {
   "cell_type": "code",
   "execution_count": 14,
   "id": "e353831e-e278-4076-b073-32ef9d89f8ea",
   "metadata": {},
   "outputs": [
    {
     "name": "stdout",
     "output_type": "stream",
     "text": [
      "[[0. 0. 0. 0.]\n",
      " [0. 0. 0. 0.]\n",
      " [0. 0. 0. 0.]]\n"
     ]
    }
   ],
   "source": [
    "zer0 = np.zeros((3,4))\n",
    "print(zer0)"
   ]
  },
  {
   "cell_type": "code",
   "execution_count": 17,
   "id": "90d39f1f-43da-4b7b-a94a-b73e9056570f",
   "metadata": {},
   "outputs": [
    {
     "name": "stdout",
     "output_type": "stream",
     "text": [
      "[[0. 0. 0.]\n",
      " [0. 0. 0.]]\n"
     ]
    }
   ],
   "source": [
    "zer1 = np.zeros_like(arr)\n",
    "print(zer1)"
   ]
  },
  {
   "cell_type": "code",
   "execution_count": 19,
   "id": "52ef48e0-8f28-47f1-90ef-1ac2cf69455e",
   "metadata": {},
   "outputs": [
    {
     "name": "stdout",
     "output_type": "stream",
     "text": [
      "[[1. 1. 1.]\n",
      " [1. 1. 1.]]\n",
      "float64\n"
     ]
    }
   ],
   "source": [
    "ones1 = np.ones_like(arr)\n",
    "print(ones1)\n",
    "print(ones1.dtype)"
   ]
  },
  {
   "cell_type": "code",
   "execution_count": 23,
   "id": "c8c3afc9-8f49-48e7-8f6b-343587f7e2ce",
   "metadata": {},
   "outputs": [
    {
     "name": "stdout",
     "output_type": "stream",
     "text": [
      "[[0. 0. 0. 0.]\n",
      " [0. 0. 0. 0.]\n",
      " [0. 0. 0. 0.]]\n"
     ]
    }
   ],
   "source": [
    "vac = np.empty((3,4))\n",
    "print(vac)"
   ]
  },
  {
   "cell_type": "code",
   "execution_count": 25,
   "id": "35330097-9a98-4597-b9cb-d9da0c4a9701",
   "metadata": {},
   "outputs": [
    {
     "name": "stdout",
     "output_type": "stream",
     "text": [
      "[4607182418800017408 4607182418800017408 4607182418800017408\n",
      " 4607182418800017408 4607182418800017408 4607182418800017408]\n"
     ]
    }
   ],
   "source": [
    "newarr = np.array([12, 23, 232, 434, 24, 11], dtype = np.int64)\n",
    "empty = np.empty_like(newarr)\n",
    "print(empty)"
   ]
  },
  {
   "cell_type": "code",
   "execution_count": 26,
   "id": "cb1456dd-0f35-4c15-9b0a-69afea54bb27",
   "metadata": {},
   "outputs": [
    {
     "name": "stdout",
     "output_type": "stream",
     "text": [
      "[[5 5 5 5]\n",
      " [5 5 5 5]\n",
      " [5 5 5 5]\n",
      " [5 5 5 5]]\n"
     ]
    }
   ],
   "source": [
    "full = np.full((4,4), 5)\n",
    "print(full)"
   ]
  },
  {
   "cell_type": "code",
   "execution_count": 27,
   "id": "a1eed434-4f75-4277-b1bb-713657100562",
   "metadata": {},
   "outputs": [
    {
     "name": "stdout",
     "output_type": "stream",
     "text": [
      "[[5 5 5 5]\n",
      " [5 5 5 5]\n",
      " [5 5 5 5]\n",
      " [5 5 5 5]\n",
      " [5 5 5 5]\n",
      " [5 5 5 5]\n",
      " [5 5 5 5]\n",
      " [5 5 5 5]\n",
      " [5 5 5 5]\n",
      " [5 5 5 5]\n",
      " [5 5 5 5]\n",
      " [5 5 5 5]\n",
      " [5 5 5 5]\n",
      " [5 5 5 5]\n",
      " [5 5 5 5]\n",
      " [5 5 5 5]]\n"
     ]
    }
   ],
   "source": [
    "arr = np.repeat(full, 4, axis=0)\n",
    "print(arr)\n"
   ]
  },
  {
   "cell_type": "code",
   "execution_count": 28,
   "id": "71acecb1-11a0-4a17-93f1-4d4f758c2515",
   "metadata": {},
   "outputs": [
    {
     "name": "stdout",
     "output_type": "stream",
     "text": [
      "[[5 5 5 5 5 5 5 5 5 5 5 5 5 5 5 5]\n",
      " [5 5 5 5 5 5 5 5 5 5 5 5 5 5 5 5]\n",
      " [5 5 5 5 5 5 5 5 5 5 5 5 5 5 5 5]\n",
      " [5 5 5 5 5 5 5 5 5 5 5 5 5 5 5 5]]\n"
     ]
    }
   ],
   "source": [
    "arr = np.tile(full, 4)\n",
    "print(arr)"
   ]
  },
  {
   "cell_type": "code",
   "execution_count": 32,
   "id": "1571e4d3-f528-4851-a82d-2d0549f13bea",
   "metadata": {},
   "outputs": [
    {
     "name": "stdout",
     "output_type": "stream",
     "text": [
      "[[0.88050363 0.27615062 0.55839224 0.49745877 0.53844246]\n",
      " [0.69130134 0.45352998 0.8949999  0.87003328 0.07685228]\n",
      " [0.02596069 0.04291807 0.92787641 0.17766749 0.73077175]\n",
      " [0.76372502 0.67684042 0.15228953 0.65878416 0.3771553 ]\n",
      " [0.71780249 0.09999439 0.77500483 0.3983107  0.18250427]]\n"
     ]
    }
   ],
   "source": [
    "unitmat = np.random.rand(5,5)\n",
    "print(unitmat)"
   ]
  },
  {
   "cell_type": "code",
   "execution_count": 33,
   "id": "4efda9b1-5c76-44e7-9109-67102fcd134d",
   "metadata": {},
   "outputs": [],
   "source": [
    "diagonal = np.diag(unitmat)"
   ]
  },
  {
   "cell_type": "code",
   "execution_count": 34,
   "id": "509650b5-388c-442a-9e74-f8a3f1d298dc",
   "metadata": {},
   "outputs": [
    {
     "name": "stdout",
     "output_type": "stream",
     "text": [
      "[0.88050363 0.45352998 0.92787641 0.65878416 0.18250427]\n"
     ]
    }
   ],
   "source": [
    "print(diagonal)"
   ]
  },
  {
   "cell_type": "code",
   "execution_count": 35,
   "id": "04165a6a-84d3-45dc-b9ad-345d6cd902aa",
   "metadata": {},
   "outputs": [
    {
     "name": "stdout",
     "output_type": "stream",
     "text": [
      "[[1 0 0 0 0]\n",
      " [0 1 0 0 0]\n",
      " [0 0 1 0 0]\n",
      " [0 0 0 1 0]\n",
      " [0 0 0 0 1]]\n"
     ]
    }
   ],
   "source": [
    "unmat = np.diag([1,1,1,1,1])\n",
    "print(unmat)"
   ]
  },
  {
   "cell_type": "code",
   "execution_count": 42,
   "id": "fe910676-8920-4c7b-80ec-1caf18dd0314",
   "metadata": {},
   "outputs": [
    {
     "name": "stdout",
     "output_type": "stream",
     "text": [
      "[[[1. 1.]\n",
      "  [1. 1.]\n",
      "  [1. 1.]]\n",
      "\n",
      " [[0. 0.]\n",
      "  [0. 0.]\n",
      "  [0. 0.]]]\n"
     ]
    }
   ],
   "source": [
    "s1 = np.ones((3,2))\n",
    "s0 = np.zeros((3,2))\n",
    "arr = np.array( (s1, s0) )\n",
    "print(arr)"
   ]
  },
  {
   "cell_type": "code",
   "execution_count": 43,
   "id": "5bcb45f6-7be8-4cf9-b753-9dcb08757a3a",
   "metadata": {},
   "outputs": [],
   "source": [
    "arrdim = arr.ndim"
   ]
  },
  {
   "cell_type": "code",
   "execution_count": 44,
   "id": "b768a024-bfd0-4e79-9356-cce6154d6ac0",
   "metadata": {},
   "outputs": [
    {
     "name": "stdout",
     "output_type": "stream",
     "text": [
      "3\n"
     ]
    }
   ],
   "source": [
    "print(arrdim)\n"
   ]
  },
  {
   "cell_type": "code",
   "execution_count": 45,
   "id": "9ba4c8b1-e922-4d1f-92a8-6a603e6163d1",
   "metadata": {},
   "outputs": [
    {
     "name": "stdout",
     "output_type": "stream",
     "text": [
      "class:  ndarray\n",
      "shape:  (2, 3, 2)\n",
      "strides:  (48, 16, 8)\n",
      "itemsize:  8\n",
      "aligned:  True\n",
      "contiguous:  True\n",
      "fortran:  False\n",
      "data pointer: 0x29cada0\n",
      "byteorder:  little\n",
      "byteswap:  False\n",
      "type: float64\n",
      "None\n"
     ]
    }
   ],
   "source": [
    "print(np.info(arr))"
   ]
  },
  {
   "cell_type": "code",
   "execution_count": 46,
   "id": "2af140b5-6210-462e-ab3c-7acb0c4d5027",
   "metadata": {},
   "outputs": [
    {
     "name": "stdout",
     "output_type": "stream",
     "text": [
      "1.0\n"
     ]
    }
   ],
   "source": [
    "print(arr[0,1,0])"
   ]
  },
  {
   "cell_type": "code",
   "execution_count": 50,
   "id": "08e3d53e-8321-48d3-b688-7f923fdb9133",
   "metadata": {},
   "outputs": [
    {
     "name": "stdout",
     "output_type": "stream",
     "text": [
      "[0.]\n"
     ]
    }
   ],
   "source": [
    "print(arr[1,1][:1:])"
   ]
  },
  {
   "cell_type": "code",
   "execution_count": 55,
   "id": "e2785eed-26d6-456f-9acd-62048eeeb393",
   "metadata": {},
   "outputs": [],
   "source": [
    "arr = np.linspace(1, 10, 10, endpoint = True)"
   ]
  },
  {
   "cell_type": "code",
   "execution_count": 63,
   "id": "59396396-fedd-43de-856e-fc4d18312840",
   "metadata": {},
   "outputs": [
    {
     "name": "stdout",
     "output_type": "stream",
     "text": [
      "[ 1.  2.  3.  4.  8.  6.  7.  8.  9. 10.]\n",
      "[ 1.  2.  3.  4.  8.  6.  7.  8.  9. 10.]\n"
     ]
    }
   ],
   "source": [
    "x = arr.view()\n",
    "cp = arr.copy()\n",
    "arr[4] = arr[3] * 2\n",
    "print(arr)\n",
    "print(x)\n"
   ]
  },
  {
   "cell_type": "code",
   "execution_count": 61,
   "id": "2d2355be-8793-4abc-b3f5-94cef04263a9",
   "metadata": {},
   "outputs": [
    {
     "name": "stdout",
     "output_type": "stream",
     "text": [
      "[ 1.  2.  3.  4.  8.  6.  7.  8.  9. 10.]\n"
     ]
    }
   ],
   "source": [
    "print(x.base)"
   ]
  },
  {
   "cell_type": "code",
   "execution_count": 64,
   "id": "8dd4924c-3395-445b-a912-a25582a4ccf1",
   "metadata": {},
   "outputs": [
    {
     "name": "stdout",
     "output_type": "stream",
     "text": [
      "[ 1.  2.  3.  4.  8.  6.  7.  8.  9. 10.]\n"
     ]
    }
   ],
   "source": [
    "print(arr.base)"
   ]
  },
  {
   "cell_type": "code",
   "execution_count": 65,
   "id": "7555da61-0b84-4b9a-8d69-e926c9466125",
   "metadata": {},
   "outputs": [
    {
     "name": "stdout",
     "output_type": "stream",
     "text": [
      "None\n"
     ]
    }
   ],
   "source": [
    "print(cp.base)"
   ]
  },
  {
   "cell_type": "code",
   "execution_count": 72,
   "id": "d52b898e-fa41-4580-80bb-402dcddc750f",
   "metadata": {},
   "outputs": [
    {
     "name": "stdout",
     "output_type": "stream",
     "text": [
      "(2, 3)\n"
     ]
    }
   ],
   "source": [
    "arr = np.array([[1,2,3],[4,7,6]])\n",
    "print(arr.shape)\n"
   ]
  },
  {
   "cell_type": "code",
   "execution_count": 73,
   "id": "016dbfb8-59a3-406c-8f4f-92da9ea86f35",
   "metadata": {},
   "outputs": [],
   "source": [
    "arr = np.array([1,2,3,4], ndmin = 5)"
   ]
  },
  {
   "cell_type": "code",
   "execution_count": 74,
   "id": "57bd9870-5e36-4e9a-b481-d063ef5d63d9",
   "metadata": {},
   "outputs": [
    {
     "name": "stdout",
     "output_type": "stream",
     "text": [
      "[[[[[1 2 3 4]]]]]\n"
     ]
    }
   ],
   "source": [
    "print(arr)"
   ]
  },
  {
   "cell_type": "code",
   "execution_count": 75,
   "id": "e08672a4-e287-4ec9-a9d0-d537471bce04",
   "metadata": {},
   "outputs": [
    {
     "name": "stdout",
     "output_type": "stream",
     "text": [
      "(1, 1, 1, 1, 4)\n"
     ]
    }
   ],
   "source": [
    "print(arr.shape)\n"
   ]
  },
  {
   "cell_type": "code",
   "execution_count": 85,
   "id": "dd3157f6-c02e-4b7b-a49c-8b6f14c14b47",
   "metadata": {},
   "outputs": [],
   "source": [
    "arr = np.arange(1,13,1)"
   ]
  },
  {
   "cell_type": "code",
   "execution_count": 86,
   "id": "e2063b1b-05bb-4161-b1ee-6e890ccdf40a",
   "metadata": {},
   "outputs": [
    {
     "name": "stdout",
     "output_type": "stream",
     "text": [
      "[ 1  2  3  4  5  6  7  8  9 10 11 12]\n"
     ]
    }
   ],
   "source": [
    "print(arr)\n"
   ]
  },
  {
   "cell_type": "code",
   "execution_count": 88,
   "id": "02ead682-53bf-45fd-8e43-0d18b9022ad7",
   "metadata": {},
   "outputs": [
    {
     "name": "stdout",
     "output_type": "stream",
     "text": [
      "[ 1  2  3  4  5  6  7  8  9 10 11 12 13 14 15 16]\n"
     ]
    }
   ],
   "source": [
    "arr = np.arange(1,17,1)\n",
    "print(arr)\n"
   ]
  },
  {
   "cell_type": "code",
   "execution_count": 94,
   "id": "14ed8aab-6bb0-4090-bc1a-14c4a6fbeea9",
   "metadata": {},
   "outputs": [
    {
     "name": "stdout",
     "output_type": "stream",
     "text": [
      "[[[ 1  2  3  4]\n",
      "  [ 5  6  7  8]]\n",
      "\n",
      " [[ 9 10 11 12]\n",
      "  [13 14 15 16]]]\n"
     ]
    }
   ],
   "source": [
    "print(arr.reshape(2,2,-1))"
   ]
  },
  {
   "cell_type": "code",
   "execution_count": 95,
   "id": "44059be2-e8e3-4559-96db-68d4d5574a60",
   "metadata": {},
   "outputs": [],
   "source": [
    "arr2 = arr.reshape(2, 2, -1)"
   ]
  },
  {
   "cell_type": "code",
   "execution_count": 96,
   "id": "1a12397b-edde-4848-ab65-b22cdafa3b46",
   "metadata": {},
   "outputs": [
    {
     "name": "stdout",
     "output_type": "stream",
     "text": [
      "[[[ 1  2  3  4]\n",
      "  [ 5  6  7  8]]\n",
      "\n",
      " [[ 9 10 11 12]\n",
      "  [13 14 15 16]]]\n"
     ]
    }
   ],
   "source": [
    "print(arr2)"
   ]
  },
  {
   "cell_type": "code",
   "execution_count": 97,
   "id": "b479d537-bfad-4acf-90fa-8eed942e737e",
   "metadata": {},
   "outputs": [
    {
     "name": "stdout",
     "output_type": "stream",
     "text": [
      "[ 1  2  3  4  5  6  7  8  9 10 11 12 13 14 15 16]\n"
     ]
    }
   ],
   "source": [
    "print(arr2.reshape(-1))"
   ]
  },
  {
   "cell_type": "code",
   "execution_count": 106,
   "id": "ba7cec6a-e3a8-45ee-b83f-b2cadf7b7e2c",
   "metadata": {},
   "outputs": [],
   "source": [
    "arr = np.array([1,2,3,4,5])\n",
    "brr = np.array([6,7,8,9,10])\n",
    "dotpr = arr * brr"
   ]
  },
  {
   "cell_type": "code",
   "execution_count": 107,
   "id": "bf407753-1892-4e9a-842f-b4c69f46675a",
   "metadata": {},
   "outputs": [
    {
     "name": "stderr",
     "output_type": "stream",
     "text": [
      "Matplotlib is building the font cache; this may take a moment.\n"
     ]
    }
   ],
   "source": [
    "import matplotlib.pyplot as plt\n"
   ]
  },
  {
   "cell_type": "code",
   "execution_count": 110,
   "id": "9cd7f430-fcae-4328-907e-af65820fba2b",
   "metadata": {},
   "outputs": [],
   "source": [
    "def make_axes():\n",
    "    plt.axvline(0, color = 'black', lw = 0.5)\n",
    "    plt.axhline(0, color = 'black', lw = 0.5)\n",
    "    #Scale the plot\n",
    "    plt.xlim(-2, 2)\n",
    "    plt.ylim(-2, 2)\n",
    "    plt.gca().set_aspect('equal', adjustable = 'box')\n",
    "    fig = plt.gca()\n",
    "    return fig"
   ]
  },
  {
   "cell_type": "code",
   "execution_count": 111,
   "id": "1136bdbb-8bb8-4d16-b4de-caa8a1eb5d54",
   "metadata": {},
   "outputs": [
    {
     "data": {
      "image/png": "[encoded data removed]",
      "text/plain": [
       "<Figure size 640x480 with 1 Axes>"
      ]
     },
     "metadata": {},
     "output_type": "display_data"
    }
   ],
   "source": [
    "empty_fig = make_axes()"
   ]
  },
  {
   "cell_type": "code",
   "execution_count": null,
   "id": "1ada1cee-1020-4852-b8da-d0e42fa99556",
   "metadata": {},
   "outputs": [],
   "source": []
  }
 ],
 "metadata": {
  "kernelspec": {
   "display_name": "anaconda-panel-2023.05-py310",
   "language": "python",
   "name": "conda-env-anaconda-panel-2023.05-py310-py"
  },
  "language_info": {
   "codemirror_mode": {
    "name": "ipython",
    "version": 3
   },
   "file_extension": ".py",
   "mimetype": "text/x-python",
   "name": "python",
   "nbconvert_exporter": "python",
   "pygments_lexer": "ipython3",
   "version": "3.11.5"
  }
 },
 "nbformat": 4,
 "nbformat_minor": 5
}
